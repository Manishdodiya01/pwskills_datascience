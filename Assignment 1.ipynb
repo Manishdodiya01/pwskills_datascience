{
 "cells": [
  {
   "cell_type": "markdown",
   "id": "d9451b15-9510-4fca-982c-c775d4bfeefe",
   "metadata": {},
   "source": [
    "-> QUESTION - 1.\n",
    "Create one variable containing following type of data:"
   ]
  },
  {
   "cell_type": "code",
   "execution_count": 2,
   "id": "e8c0279f-1b8c-4e40-b486-a1edda082b78",
   "metadata": {},
   "outputs": [],
   "source": [
    "a = \"hello world\""
   ]
  },
  {
   "cell_type": "code",
   "execution_count": 3,
   "id": "6698f9ce-7ab9-4f19-9cfb-af1f8199a049",
   "metadata": {},
   "outputs": [
    {
     "data": {
      "text/plain": [
       "str"
      ]
     },
     "execution_count": 3,
     "metadata": {},
     "output_type": "execute_result"
    }
   ],
   "source": [
    "type(a)"
   ]
  },
  {
   "cell_type": "code",
   "execution_count": 4,
   "id": "fc15dfc4-5132-48fe-8a70-5d3522d2fbf7",
   "metadata": {},
   "outputs": [],
   "source": [
    "b = [1,2,25.56,True,False,(1,2)]"
   ]
  },
  {
   "cell_type": "code",
   "execution_count": 5,
   "id": "63d327c9-46d5-4ea1-93a8-3087d3e93557",
   "metadata": {},
   "outputs": [
    {
     "data": {
      "text/plain": [
       "list"
      ]
     },
     "execution_count": 5,
     "metadata": {},
     "output_type": "execute_result"
    }
   ],
   "source": [
    "type(b)"
   ]
  },
  {
   "cell_type": "code",
   "execution_count": 6,
   "id": "987bd9ac-8c1a-4533-a05a-b3f5068cfa40",
   "metadata": {},
   "outputs": [],
   "source": [
    "c = 25.56"
   ]
  },
  {
   "cell_type": "code",
   "execution_count": 7,
   "id": "26f0c8e4-cbfc-4903-944c-8104a7aa96c3",
   "metadata": {},
   "outputs": [
    {
     "data": {
      "text/plain": [
       "float"
      ]
     },
     "execution_count": 7,
     "metadata": {},
     "output_type": "execute_result"
    }
   ],
   "source": [
    "type(c)"
   ]
  },
  {
   "cell_type": "code",
   "execution_count": 8,
   "id": "6ec6c121-5f46-436f-ae56-fe12860253b1",
   "metadata": {},
   "outputs": [],
   "source": [
    "d = (1,2,3)"
   ]
  },
  {
   "cell_type": "code",
   "execution_count": 9,
   "id": "00855682-fe86-4242-b25a-cbd02d0e9c0c",
   "metadata": {},
   "outputs": [
    {
     "data": {
      "text/plain": [
       "tuple"
      ]
     },
     "execution_count": 9,
     "metadata": {},
     "output_type": "execute_result"
    }
   ],
   "source": [
    "type(d)"
   ]
  },
  {
   "cell_type": "markdown",
   "id": "029766bf-6d81-4850-81e0-75ade1605d46",
   "metadata": {},
   "source": [
    "-> QUESTION 2.\n",
    "Given are some following variables containing data:\n",
    "\n",
    "What will be the data type of the above given variable."
   ]
  },
  {
   "cell_type": "code",
   "execution_count": 20,
   "id": "858e492b-88df-421a-bb29-2328dfb377ab",
   "metadata": {},
   "outputs": [],
   "source": [
    "var1 = ' '"
   ]
  },
  {
   "cell_type": "code",
   "execution_count": 21,
   "id": "2988bcd5-b1d8-49fe-86af-883c20c34e5b",
   "metadata": {},
   "outputs": [
    {
     "data": {
      "text/plain": [
       "str"
      ]
     },
     "execution_count": 21,
     "metadata": {},
     "output_type": "execute_result"
    }
   ],
   "source": [
    "type(var1)"
   ]
  },
  {
   "cell_type": "code",
   "execution_count": 22,
   "id": "afffdf72-4a7c-4d5a-8d71-9b66ddd34913",
   "metadata": {},
   "outputs": [],
   "source": [
    "var2 = '[DS,ML,Python]'"
   ]
  },
  {
   "cell_type": "code",
   "execution_count": 23,
   "id": "e38ccb18-3ac8-434c-b153-effa7e549161",
   "metadata": {},
   "outputs": [
    {
     "data": {
      "text/plain": [
       "str"
      ]
     },
     "execution_count": 23,
     "metadata": {},
     "output_type": "execute_result"
    }
   ],
   "source": [
    "type(var2)"
   ]
  },
  {
   "cell_type": "code",
   "execution_count": 24,
   "id": "bc4cc41b-f732-4592-ae72-e2355632752b",
   "metadata": {},
   "outputs": [],
   "source": [
    "var3 = [\"DS\",\"ML\",\"Python\"]"
   ]
  },
  {
   "cell_type": "code",
   "execution_count": 25,
   "id": "88d91ff6-2123-4e20-b763-709ed129f71f",
   "metadata": {},
   "outputs": [
    {
     "data": {
      "text/plain": [
       "list"
      ]
     },
     "execution_count": 25,
     "metadata": {},
     "output_type": "execute_result"
    }
   ],
   "source": [
    "type(var3)"
   ]
  },
  {
   "cell_type": "code",
   "execution_count": 26,
   "id": "3751124e-2eff-42ac-835a-0339d7c0d751",
   "metadata": {},
   "outputs": [],
   "source": [
    "var4 = 1"
   ]
  },
  {
   "cell_type": "code",
   "execution_count": 28,
   "id": "0c3322aa-a3f6-44eb-b823-d336ac14b7eb",
   "metadata": {},
   "outputs": [
    {
     "data": {
      "text/plain": [
       "int"
      ]
     },
     "execution_count": 28,
     "metadata": {},
     "output_type": "execute_result"
    }
   ],
   "source": [
    "type(var4)"
   ]
  },
  {
   "cell_type": "markdown",
   "id": "3d1265b0-076b-444a-8bfe-6ee45ff20226",
   "metadata": {},
   "source": [
    "-> QUESTION 3.\n",
    "Explain the use of the following operators using an example"
   ]
  },
  {
   "cell_type": "markdown",
   "id": "4710cfc2-c5f1-4a71-920c-01efa7e4c9cc",
   "metadata": {},
   "source": [
    "(i)/\n",
    "\n",
    "\n",
    "\n",
    "\n",
    "(i) The \"/\" operator is the division operator. It is used to divide one number by another and obtain the\n",
    "quotient or the result of the division. Here's an example:\n",
    "\n"
   ]
  },
  {
   "cell_type": "code",
   "execution_count": 30,
   "id": "c3df86ea-c790-46a9-b008-a378bf492485",
   "metadata": {},
   "outputs": [
    {
     "name": "stdout",
     "output_type": "stream",
     "text": [
      "2.0\n"
     ]
    }
   ],
   "source": [
    "a = 10\n",
    "b = 5\n",
    "c = a/b\n",
    "print(c)"
   ]
  },
  {
   "cell_type": "markdown",
   "id": "06ad8af8-bade-4177-aff5-be783a104f72",
   "metadata": {},
   "source": [
    "(ii)%\n",
    "\n",
    "\n",
    "The \"%\" operator is the modulus operator. It is used to calculate the remainder of a division operation.\n",
    "Here's an example:"
   ]
  },
  {
   "cell_type": "code",
   "execution_count": 32,
   "id": "d587c59d-1564-46cc-be21-53979ca3cf94",
   "metadata": {},
   "outputs": [
    {
     "name": "stdout",
     "output_type": "stream",
     "text": [
      "1\n"
     ]
    }
   ],
   "source": [
    "a = 10\n",
    "b = 3\n",
    "c = a%b\n",
    "print(c)"
   ]
  },
  {
   "cell_type": "markdown",
   "id": "034b3381-6d7c-44ff-8239-3c3a07a60493",
   "metadata": {},
   "source": [
    "(iii)//\n",
    "\n",
    "\n",
    "\n",
    "The \"//\" operator is the floor division operator. It performs division similar to the \"/\" operator but\n",
    "rounds the result down to the nearest whole number. Here's an example:"
   ]
  },
  {
   "cell_type": "code",
   "execution_count": 34,
   "id": "3679fb14-a05d-4c90-9c54-d9d2819f2ab8",
   "metadata": {},
   "outputs": [
    {
     "name": "stdout",
     "output_type": "stream",
     "text": [
      "3\n"
     ]
    }
   ],
   "source": [
    "a = 10\n",
    "b = 3\n",
    "c = a//b\n",
    "print(c)\n"
   ]
  },
  {
   "cell_type": "markdown",
   "id": "06d91c40-f1cd-42a6-bb5e-60962bda10e3",
   "metadata": {},
   "source": [
    "(iv)**\n",
    "\n",
    "\n",
    "\n",
    "The \"**\" operator is the exponentiation operator. It is used to raise a number to a certain power. Here's\n",
    "an example:"
   ]
  },
  {
   "cell_type": "code",
   "execution_count": 35,
   "id": "338322b7-6938-46a6-9f24-1631fa1bb895",
   "metadata": {},
   "outputs": [
    {
     "name": "stdout",
     "output_type": "stream",
     "text": [
      "1000\n"
     ]
    }
   ],
   "source": [
    "a = 10\n",
    "b = 3\n",
    "c = a**b\n",
    "print(c)"
   ]
  },
  {
   "cell_type": "markdown",
   "id": "4737bf9b-a182-4382-88ce-2456003561d9",
   "metadata": {},
   "source": [
    "-> QUESTION 4.\n",
    "\n",
    "\n",
    "Create a list of length 10 of your choice containing multiple types of data. Using for loop print the element and its data type."
   ]
  },
  {
   "cell_type": "code",
   "execution_count": 37,
   "id": "90dfb090-2e7d-464d-92d0-4161be10e0c7",
   "metadata": {},
   "outputs": [
    {
     "name": "stdout",
     "output_type": "stream",
     "text": [
      "<class 'int'>\n",
      "<class 'int'>\n",
      "<class 'float'>\n",
      "<class 'bool'>\n",
      "<class 'float'>\n",
      "<class 'tuple'>\n",
      "<class 'str'>\n",
      "<class 'bool'>\n",
      "<class 'int'>\n",
      "<class 'int'>\n",
      "<class 'str'>\n"
     ]
    }
   ],
   "source": [
    "a = [1,2,25.55,True,0.05,(1,2),\"pw\",False,1,2,\"data science\"]\n",
    "for i in a:\n",
    "    print(type(i))"
   ]
  },
  {
   "cell_type": "markdown",
   "id": "cbce575f-796d-4fcc-ba7a-78bc8b22a649",
   "metadata": {},
   "source": [
    "-> QUESTION 5.\n",
    "\n",
    "\n",
    "Using a while loop, verify if the number A is purely divisible by number B and if so then how many times it can be divisible."
   ]
  },
  {
   "cell_type": "code",
   "execution_count": 16,
   "id": "a135df67-c76c-4995-986c-f1e46ce7aea7",
   "metadata": {},
   "outputs": [
    {
     "name": "stdin",
     "output_type": "stream",
     "text": [
      "Enter number A:  120\n",
      "Enter number B:  2\n"
     ]
    },
    {
     "name": "stdout",
     "output_type": "stream",
     "text": [
      "15 is divisible by 2 3 times.\n"
     ]
    }
   ],
   "source": [
    "A = int(input(\"Enter number A: \"))\n",
    "B = int(input(\"Enter number B: \"))\n",
    "count = 0  \n",
    "while A % B == 0:\n",
    "    count += 1\n",
    "    A //= B  \n",
    "\n",
    "if count > 0:\n",
    "    print(f\"{A} is divisible by {B} {count} times.\")\n",
    "else:\n",
    "    print(f\"{A} is not divisible by {B}.\")\n"
   ]
  },
  {
   "cell_type": "markdown",
   "id": "af3f043a-83a1-4ec2-bf97-3a06c553cc4a",
   "metadata": {},
   "source": [
    "-> QUESTION 6.\n",
    "\n",
    "\n",
    "\n",
    "Create a list containing 25 int type data. Using for loop and if-else condition print if the element is divisible by 3 or not."
   ]
  },
  {
   "cell_type": "code",
   "execution_count": 15,
   "id": "55f05ca9-131c-4491-b305-5c00ae5d9731",
   "metadata": {},
   "outputs": [
    {
     "name": "stdout",
     "output_type": "stream",
     "text": [
      "12 is divisible by 3\n",
      "5 is not divisible by 3\n",
      "15 is divisible by 3\n",
      "7 is not divisible by 3\n",
      "9 is divisible by 3\n",
      "25 is not divisible by 3\n",
      "29 is not divisible by 3\n",
      "27 is divisible by 3\n",
      "30 is divisible by 3\n",
      "11 is not divisible by 3\n",
      "14 is not divisible by 3\n",
      "36 is divisible by 3\n",
      "21 is divisible by 3\n",
      "8 is not divisible by 3\n",
      "100 is not divisible by 3\n",
      "19 is not divisible by 3\n",
      "20 is not divisible by 3\n",
      "25 is not divisible by 3\n",
      "5 is not divisible by 3\n",
      "4 is not divisible by 3\n",
      "10 is not divisible by 3\n",
      "16 is not divisible by 3\n",
      "24 is divisible by 3\n",
      "28 is not divisible by 3\n",
      "32 is not divisible by 3\n"
     ]
    }
   ],
   "source": [
    "my_list = [12, 5, 15, 7, 9, 25, 29, 27, 30, 11, 14, 36, 21, 8, 100, 19, 20, 25, 5, 4, 10, 16, 24, 28, 32]\n",
    "for num in my_list:\n",
    "    if num % 3 == 0:\n",
    "        print(f\"{num} is divisible by 3\")\n",
    "    else:\n",
    "        print(f\"{num} is not divisible by 3\")\n"
   ]
  },
  {
   "cell_type": "markdown",
   "id": "1e8c60f1-93fe-469d-b83b-3c9363eef43d",
   "metadata": {},
   "source": [
    "-> QUESTION 7.\n",
    "\n",
    "\n",
    "What do you understand about mutable and immutable data types? Give examples for both showing\n",
    "this property."
   ]
  },
  {
   "cell_type": "markdown",
   "id": "bbc731da-1f99-461c-bdf2-dbf562417a9b",
   "metadata": {},
   "source": [
    "MUTABLE:\n",
    "\n",
    "On the other hand, a mutable data type allows its state to be modified after it is created. This means\n",
    "\n",
    "that you can change the internal values or properties of a mutable object without creating a new\n",
    "object.\n",
    "\n",
    "EXAMPLE:\n",
    "\n",
    "numbers = [1, 2, 3]\n",
    "\n",
    "numbers.append(4) # Modifies the existing list\n",
    "\n",
    "numbers[1] = 5 # Modifies the value at index 1\n",
    "\n",
    "INNMUTABLE:\n",
    "\n",
    "An immutable data type is one whose state cannot be modified after it is created. This means that\n",
    "once an object of an immutable data type is assigned a value, that value cannot be changed. Instead,\n",
    "any operation that appears to modify an immutable object actually creates a new object with the\n",
    "updated value.\n",
    "\n",
    "Example:\n",
    "\n",
    "String:\n",
    "\n",
    "name = \"Alice\"\n",
    "\n",
    "name = name + \" Smith\" # This creates a new string with the concatenated value"
   ]
  },
  {
   "cell_type": "code",
   "execution_count": null,
   "id": "03844103-5ea2-4347-8519-83b9d4f79e3c",
   "metadata": {},
   "outputs": [],
   "source": []
  }
 ],
 "metadata": {
  "kernelspec": {
   "display_name": "Python 3 (ipykernel)",
   "language": "python",
   "name": "python3"
  },
  "language_info": {
   "codemirror_mode": {
    "name": "ipython",
    "version": 3
   },
   "file_extension": ".py",
   "mimetype": "text/x-python",
   "name": "python",
   "nbconvert_exporter": "python",
   "pygments_lexer": "ipython3",
   "version": "3.10.8"
  }
 },
 "nbformat": 4,
 "nbformat_minor": 5
}
